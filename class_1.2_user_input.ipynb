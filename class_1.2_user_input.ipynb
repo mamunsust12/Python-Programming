{
 "cells": [
  {
   "cell_type": "code",
   "execution_count": 13,
   "id": "189ef1cd",
   "metadata": {},
   "outputs": [
    {
     "name": "stdout",
     "output_type": "stream",
     "text": [
      "Python 3.9.12\n"
     ]
    }
   ],
   "source": [
    "!python --version"
   ]
  },
  {
   "cell_type": "code",
   "execution_count": 1,
   "id": "41d5c3ab",
   "metadata": {},
   "outputs": [
    {
     "name": "stdout",
     "output_type": "stream",
     "text": [
      "Enter first number: 12\n",
      "Enter seconf number: 10\n",
      "Sum is  22\n"
     ]
    }
   ],
   "source": [
    "a=input(\"Enter first number: \")\n",
    "b=input(\"Enter seconf number: \")\n",
    "sum=int(a)+ int(b)\n",
    "print(\"Sum is \" , sum)"
   ]
  },
  {
   "cell_type": "code",
   "execution_count": 2,
   "id": "516a7d6f",
   "metadata": {},
   "outputs": [
    {
     "name": "stdout",
     "output_type": "stream",
     "text": [
      "Enter first number: 1\n",
      "Enter seconf number: 2\n",
      "Sum is  3\n"
     ]
    }
   ],
   "source": [
    "a=int(input(\"Enter first number: \"))\n",
    "b=int(input(\"Enter seconf number: \"))\n",
    "sum=a+b\n",
    "print(\"Sum is \" , sum)"
   ]
  },
  {
   "cell_type": "code",
   "execution_count": null,
   "id": "a086bbf1",
   "metadata": {},
   "outputs": [],
   "source": [
    "def Greet():\n",
    "    name=input(\"Enter your name: \")\n",
    "    age=int(input(\"Enter your age: \"))\n",
    "    print(\"Congratullation \\nMr. \" + name + \n",
    "          \"\\nYou are \" +  age , \"now\")\n",
    "Greet()"
   ]
  },
  {
   "cell_type": "code",
   "execution_count": null,
   "id": "b5a5834f",
   "metadata": {},
   "outputs": [],
   "source": [
    "Greet()"
   ]
  },
  {
   "cell_type": "code",
   "execution_count": null,
   "id": "82f5db6f",
   "metadata": {},
   "outputs": [],
   "source": []
  }
 ],
 "metadata": {
  "kernelspec": {
   "display_name": "Python 3 (ipykernel)",
   "language": "python",
   "name": "python3"
  },
  "language_info": {
   "codemirror_mode": {
    "name": "ipython",
    "version": 3
   },
   "file_extension": ".py",
   "mimetype": "text/x-python",
   "name": "python",
   "nbconvert_exporter": "python",
   "pygments_lexer": "ipython3",
   "version": "3.9.13"
  }
 },
 "nbformat": 4,
 "nbformat_minor": 5
}
